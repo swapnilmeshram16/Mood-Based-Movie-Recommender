{
 "cells": [
  {
   "cell_type": "markdown",
   "id": "80f394db-9f37-4a4e-b73c-ed214cbe1ab8",
   "metadata": {},
   "source": [
    "## A Mood Based Movie Recommendation System Using Machine Learning "
   ]
  },
  {
   "cell_type": "markdown",
   "id": "f163ee5a-83e0-409f-bb90-6c2174a100f2",
   "metadata": {},
   "source": [
    "### Step 1: Import Required Libraries"
   ]
  },
  {
   "cell_type": "code",
   "execution_count": 1,
   "id": "c9c27765-1dcb-428b-ba63-4628929d340b",
   "metadata": {},
   "outputs": [],
   "source": [
    "import pandas as pd               # for data handling\n",
    "import numpy as np                # for numerical operations\n",
    "import ast                        # to convert string lists to real Python lists\n",
    "from sklearn.feature_extraction.text import CountVectorizer\n",
    "from sklearn.metrics.pairwise import cosine_similarity\n",
    "from sklearn.model_selection import train_test_split\n",
    "from sklearn.svm import SVC\n",
    "from sklearn.naive_bayes import MultinomialNB\n",
    "from sklearn.tree import DecisionTreeClassifier\n",
    "from sklearn.metrics import accuracy_score, classification_report\n"
   ]
  },
  {
   "cell_type": "markdown",
   "id": "1719c6fd-943f-4721-b271-f457acd35b87",
   "metadata": {},
   "source": [
    "### Step 3: Load and Merge Datasets \n",
    "#### We’ll use TMDB datasets"
   ]
  },
  {
   "cell_type": "code",
   "execution_count": 2,
   "id": "1a25123f-197d-4134-b3b2-e9fa45541906",
   "metadata": {},
   "outputs": [],
   "source": [
    "movies = pd.read_csv(r\"C:\\Users\\Asus\\Downloads\\dataset\\movie dataset\\tmdb_5000_movies.csv\")\n",
    "credits = pd.read_csv(r\"C:\\Users\\Asus\\Downloads\\dataset\\movie dataset\\tmdb_5000_credits.csv\")\n",
    "\n",
    "# Merge both datasets using movie ID\n",
    "movies = movies.merge(credits, left_on='id', right_on='movie_id')\n"
   ]
  },
  {
   "cell_type": "markdown",
   "id": "04be6c9a-4570-4a7a-8390-f64baff252da",
   "metadata": {},
   "source": [
    "### Step 4: Data Cleaning "
   ]
  },
  {
   "cell_type": "code",
   "execution_count": 3,
   "id": "f9fb0b3b-5d6c-401a-a69e-60b4e68b0c16",
   "metadata": {},
   "outputs": [
    {
     "name": "stdout",
     "output_type": "stream",
     "text": [
      "Remaining after dropna: (4800, 5)\n"
     ]
    }
   ],
   "source": [
    "# Keep only important columns\n",
    "movies = movies[['title_x', 'genres', 'overview', 'cast', 'crew']]\n",
    "movies.columns = ['title', 'genres', 'overview', 'cast', 'crew']\n",
    "\n",
    "#Drop Missing Values\n",
    "movies.dropna(inplace=True)\n",
    "print(\"Remaining after dropna:\", movies.shape)\n",
    "\n",
    "#Remove Duplicates\n",
    "movies.drop_duplicates(inplace=True)\n"
   ]
  },
  {
   "cell_type": "markdown",
   "id": "f9cf2827-cc29-4b66-a61f-e523256d5ea3",
   "metadata": {},
   "source": [
    "### Step 4: Data Processing "
   ]
  },
  {
   "cell_type": "code",
   "execution_count": 4,
   "id": "63a1a6cc-ed3f-4074-98e2-0cc7d5a56f8e",
   "metadata": {},
   "outputs": [],
   "source": [
    "# Convert genres JSON-like strings to list of genre names\n",
    "\n",
    "def convert(text):\n",
    "    L = []\n",
    "    for i in ast.literal_eval(text):\n",
    "        L.append(i['name'])\n",
    "    return L\n",
    "\n",
    "movies['genres'] = movies['genres'].apply(convert)\n",
    "movies['tags'] = movies['overview'] + ' ' + movies['genres'].astype(str)\n"
   ]
  },
  {
   "cell_type": "markdown",
   "id": "940d189f-ecca-4482-b88d-d728afecde46",
   "metadata": {},
   "source": [
    " ### Step 5: PANAS-Based Mood Input (Positive and Negative Affect Schedule)\n",
    " #### Ask the user to enter their PANAS mood scores"
   ]
  },
  {
   "cell_type": "code",
   "execution_count": 42,
   "id": "5e03f7ee-fc1c-4c03-9602-2ebe2161a810",
   "metadata": {},
   "outputs": [
    {
     "name": "stdin",
     "output_type": "stream",
     "text": [
      "Enter your Positive Affect score (0–50):  30\n",
      "Enter your Negative Affect score (0–50):  35\n"
     ]
    },
    {
     "name": "stdout",
     "output_type": "stream",
     "text": [
      "Detected Mood: bad\n"
     ]
    }
   ],
   "source": [
    "positive_score = int(input(\"Enter your Positive Affect score (0–50): \"))\n",
    "negative_score = int(input(\"Enter your Negative Affect score (0–50): \"))\n",
    "\n",
    "mood = \"good\" if positive_score >= negative_score else \"bad\"\n",
    "print(\"Detected Mood:\", mood)\n"
   ]
  },
  {
   "cell_type": "markdown",
   "id": "0ed90ae5-5574-4356-8296-d64f2158db75",
   "metadata": {},
   "source": [
    "### Step 6: Filter Movies Based on Mood"
   ]
  },
  {
   "cell_type": "code",
   "execution_count": 43,
   "id": "752c623f-53cf-4a40-8712-2af66af00f83",
   "metadata": {},
   "outputs": [],
   "source": [
    "good_mood_genres = ['Comedy', 'Romance', 'Drama', 'Animation', 'Fantasy', 'Science Fiction', 'Music']\n",
    "bad_mood_genres = ['Drama', 'Romance', 'Documentary', 'Fantasy', 'Music']\n",
    "\n",
    "def filter_by_mood(mood):\n",
    "    genres = good_mood_genres if mood == 'good' else bad_mood_genres\n",
    "    return movies[movies['genres'].apply(lambda x: any(g in x for g in genres))]\n",
    "\n",
    "filtered_movies = filter_by_mood(mood)\n"
   ]
  },
  {
   "cell_type": "markdown",
   "id": "9a027efd-6bc1-4bec-b8b8-31e835aa40ae",
   "metadata": {},
   "source": [
    "### Step 7: Cosine Similarity for calulate similarity  "
   ]
  },
  {
   "cell_type": "code",
   "execution_count": 44,
   "id": "396fe4a4-3065-4b27-a808-396d626676ec",
   "metadata": {},
   "outputs": [],
   "source": [
    "cv = CountVectorizer(max_features=5000, stop_words='english')\n",
    "vectors = cv.fit_transform(filtered_movies['tags'].astype(str)).toarray()\n",
    "\n",
    "similarity = cosine_similarity(vectors)\n"
   ]
  },
  {
   "cell_type": "markdown",
   "id": "4ae36fe9-1d47-4084-99d8-3882966f74ad",
   "metadata": {},
   "source": [
    "### Step 8: Training and Testing "
   ]
  },
  {
   "cell_type": "code",
   "execution_count": 45,
   "id": "bb8777c3-a05e-48c8-ba11-36a080c72b39",
   "metadata": {},
   "outputs": [
    {
     "name": "stdout",
     "output_type": "stream",
     "text": [
      "SVM Accuracy: 99.67%\n",
      "              precision    recall  f1-score   support\n",
      "\n",
      "         bad       0.99      0.99      0.99       201\n",
      "        good       1.00      1.00      1.00       999\n",
      "\n",
      "    accuracy                           1.00      1200\n",
      "   macro avg       1.00      0.99      0.99      1200\n",
      "weighted avg       1.00      1.00      1.00      1200\n",
      "\n"
     ]
    }
   ],
   "source": [
    "movies['mood'] = movies['genres'].apply(lambda x: 'good' if any(i in good_mood_genres for i in x) else 'bad')\n",
    "\n",
    "X = cv.fit_transform(movies['tags'].astype(str)).toarray()\n",
    "y = movies['mood']\n",
    "\n",
    "X_train, X_test, y_train, y_test = train_test_split(X, y, test_size=0.25, random_state=42)\n",
    "\n",
    "#Support Vector Machine (SVM)\n",
    "svm_model = SVC(kernel='linear', C=10)  # Linear SVM\n",
    "svm_model.fit(X_train, y_train)\n",
    "svm_pred = svm_model.predict(X_test)\n",
    "\n",
    "# SVM Accuracy\n",
    "svm_accuracy = accuracy_score(y_test, svm_pred) * 100\n",
    "print(\"SVM Accuracy: {:.2f}%\".format(svm_accuracy))\n",
    "print(classification_report(y_test, svm_pred))\n",
    "\n"
   ]
  },
  {
   "cell_type": "markdown",
   "id": "0de6df50-e2a5-4bf5-81b1-b0ded2c99426",
   "metadata": {},
   "source": [
    "#### Naive Bayes (Multinomial) "
   ]
  },
  {
   "cell_type": "code",
   "execution_count": 46,
   "id": "915adcf8-cfff-4035-95b9-489ff7f13c44",
   "metadata": {},
   "outputs": [
    {
     "name": "stdout",
     "output_type": "stream",
     "text": [
      "Naive Bayes Accuracy: 92.17%\n",
      "              precision    recall  f1-score   support\n",
      "\n",
      "         bad       0.82      0.69      0.75       201\n",
      "        good       0.94      0.97      0.95       999\n",
      "\n",
      "    accuracy                           0.92      1200\n",
      "   macro avg       0.88      0.83      0.85      1200\n",
      "weighted avg       0.92      0.92      0.92      1200\n",
      "\n"
     ]
    }
   ],
   "source": [
    "nb_model = MultinomialNB()\n",
    "nb_model.fit(X_train, y_train)\n",
    "nb_pred = nb_model.predict(X_test)\n",
    "\n",
    "nb_accuracy = accuracy_score(y_test, nb_pred) * 100\n",
    "print(\"Naive Bayes Accuracy: {:.2f}%\".format(nb_accuracy))\n",
    "print(classification_report(y_test, nb_pred))"
   ]
  },
  {
   "cell_type": "markdown",
   "id": "0540a287-cbde-486f-8b50-6e83dfb00e7e",
   "metadata": {},
   "source": [
    "#### Decision Tree Classifier"
   ]
  },
  {
   "cell_type": "code",
   "execution_count": 47,
   "id": "57a03e8e-9707-4b01-b7a9-1c5cbc37beb7",
   "metadata": {},
   "outputs": [
    {
     "name": "stdout",
     "output_type": "stream",
     "text": [
      "Decision Tree Accuracy: 99.42%\n",
      "              precision    recall  f1-score   support\n",
      "\n",
      "         bad       0.98      0.99      0.98       201\n",
      "        good       1.00      1.00      1.00       999\n",
      "\n",
      "    accuracy                           0.99      1200\n",
      "   macro avg       0.99      0.99      0.99      1200\n",
      "weighted avg       0.99      0.99      0.99      1200\n",
      "\n"
     ]
    }
   ],
   "source": [
    "dt_model = DecisionTreeClassifier(criterion='gini')\n",
    "dt_model.fit(X_train, y_train)\n",
    "dt_pred = dt_model.predict(X_test)\n",
    "\n",
    "dt_accuracy = accuracy_score(y_test, dt_pred) * 100\n",
    "print(\"Decision Tree Accuracy: {:.2f}%\".format(dt_accuracy))\n",
    "print(classification_report(y_test, dt_pred))"
   ]
  },
  {
   "cell_type": "markdown",
   "id": "f7e1a6dd-e041-4fdc-b1c4-90a8e7f65b91",
   "metadata": {},
   "source": [
    "### Step 9:  Recommend Similar Movies"
   ]
  },
  {
   "cell_type": "code",
   "execution_count": 48,
   "id": "b77aff19-cc1e-4a93-9e19-6d54294a7f53",
   "metadata": {},
   "outputs": [
    {
     "name": "stdout",
     "output_type": "stream",
     "text": [
      "Random Movie Based on Mood: White House Down\n",
      "Monster House\n",
      "The Brave Little Toaster\n",
      "Army of Darkness\n",
      "Alvin and the Chipmunks: Chipwrecked\n",
      "The Croods\n",
      "The Smurfs\n",
      "And So It Goes\n",
      "Savva. Heart of the Warrior\n",
      "Herbie Fully Loaded\n",
      "Thunder and the House of Magic\n"
     ]
    }
   ],
   "source": [
    "def recommend(title):\n",
    "    index = filtered_movies[filtered_movies['title'] == title].index[0]\n",
    "    distances = list(enumerate(similarity[index]))\n",
    "    movies_list = sorted(distances, key=lambda x: x[1], reverse=True)[1:11]\n",
    "    for i in movies_list:\n",
    "        print(filtered_movies.iloc[i[0]].title)\n",
    "\n",
    "# Choose a random movie based on mood\n",
    "random_title = filtered_movies.sample(1).title.values[0]\n",
    "print(\"Random Movie Based on Mood:\", random_title)\n",
    "recommend(random_title)\n"
   ]
  },
  {
   "cell_type": "code",
   "execution_count": null,
   "id": "6f5110ea-e2d0-407f-9304-e9093d046c80",
   "metadata": {},
   "outputs": [],
   "source": []
  }
 ],
 "metadata": {
  "kernelspec": {
   "display_name": "Python 3 (ipykernel)",
   "language": "python",
   "name": "python3"
  },
  "language_info": {
   "codemirror_mode": {
    "name": "ipython",
    "version": 3
   },
   "file_extension": ".py",
   "mimetype": "text/x-python",
   "name": "python",
   "nbconvert_exporter": "python",
   "pygments_lexer": "ipython3",
   "version": "3.12.7"
  }
 },
 "nbformat": 4,
 "nbformat_minor": 5
}
